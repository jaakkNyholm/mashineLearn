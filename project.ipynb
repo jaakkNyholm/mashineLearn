{
 "cells": [
  {
   "cell_type": "code",
   "execution_count": 12,
   "id": "329ab092-c0d5-4665-a3b8-4f2d39a26fc5",
   "metadata": {
    "tags": []
   },
   "outputs": [
    {
     "name": "stdout",
     "output_type": "stream",
     "text": [
      "Requirement already satisfied: numpy in c:\\users\\jaakkonyholm\\anaconda3\\envs\\r4-base\\lib\\site-packages (2.1.1)\n"
     ]
    }
   ],
   "source": [
    "!pip install pandas\n"
   ]
  },
  {
   "cell_type": "code",
   "execution_count": 14,
   "id": "d4e9df5d-2daf-4ea8-91fa-8beabe0955c8",
   "metadata": {
    "tags": []
   },
   "outputs": [],
   "source": [
    "from os import listdir\n",
    "from os.path import isfile, join\n",
    "import pandas as pd\n",
    "import numpy as np\n"
   ]
  },
  {
   "cell_type": "code",
   "execution_count": 37,
   "id": "4d83295b-8548-47e8-b02d-da3d8f4b0f08",
   "metadata": {
    "tags": []
   },
   "outputs": [
    {
     "data": {
      "text/plain": [
       "['Energian hinnat.csv',\n",
       " 'Liiketilojen vuokra muutos.csv',\n",
       " 'Rakennustuotteiden hinta muutos.csv',\n",
       " 'realGDP.csv',\n",
       " 'Teollisuuden liikevaihto muutos.csv',\n",
       " 'Toimistojen vuokra muutos.csv',\n",
       " 'Työvoimakustannus muutos.csv',\n",
       " 'yritys lainat korot ja muutokset.csv']"
      ]
     },
     "execution_count": 37,
     "metadata": {},
     "output_type": "execute_result"
    }
   ],
   "source": []
  },
  {
   "cell_type": "code",
   "execution_count": 40,
   "id": "249132a4-c16d-4ae2-8880-cb734d19c830",
   "metadata": {
    "tags": []
   },
   "outputs": [],
   "source": [
    "from os import listdir\n",
    "from os.path import isfile, join\n",
    "import pandas as pd\n",
    "import numpy as np\n",
    "onlyfiles = [f for f in listdir(\"files\") if isfile(join(\"files\", f))]\n",
    "\n",
    "energyPrices=pd.read_csv(\"files/\"+onlyfiles[0], encoding='ISO-8859-1')\n",
    "commercialRealEstate = pd.read_csv(\"files/\"+onlyfiles[1] , encoding='ISO-8859-1')\n",
    "constructionMaterials=pd.read_csv(\"files/\"+onlyfiles[2], encoding='ISO-8859-1')\n",
    "realGDP=pd.read_csv(\"files/\"+onlyfiles[3], encoding='ISO-8859-1')\n",
    "IndustrialRevenue=pd.read_csv(\"files/\"+onlyfiles[4], encoding='ISO-8859-1')\n",
    "OfficeRealEstate=pd.read_csv(\"files/\"+onlyfiles[5], encoding='ISO-8859-1')\n",
    "labourCosts=pd.read_csv(\"files/\"+onlyfiles[6], encoding='ISO-8859-1')\n",
    "corporateDebt=pd.read_csv(\"files/\"+onlyfiles[7], encoding='ISO-8859-1')"
   ]
  },
  {
   "cell_type": "code",
   "execution_count": 58,
   "id": "b6f753e2-db63-42f7-8202-1a40954d6ca4",
   "metadata": {
    "tags": []
   },
   "outputs": [
    {
     "data": {
      "text/html": [
       "<div>\n",
       "<style scoped>\n",
       "    .dataframe tbody tr th:only-of-type {\n",
       "        vertical-align: middle;\n",
       "    }\n",
       "\n",
       "    .dataframe tbody tr th {\n",
       "        vertical-align: top;\n",
       "    }\n",
       "\n",
       "    .dataframe thead th {\n",
       "        text-align: right;\n",
       "    }\n",
       "</style>\n",
       "<table border=\"1\" class=\"dataframe\">\n",
       "  <thead>\n",
       "    <tr style=\"text-align: right;\">\n",
       "      <th></th>\n",
       "      <th>117y -- Palvelujen tuottajahintaindeksi (2005=100), vuosittain, 2000-2023</th>\n",
       "    </tr>\n",
       "  </thead>\n",
       "  <tbody>\n",
       "    <tr>\n",
       "      <th>Vuosi;\"Toimiala\";\"Vuosimuutos</th>\n",
       "      <td>%\"</td>\n",
       "    </tr>\n",
       "    <tr>\n",
       "      <th>2000;\"6820A Toimistotilojen vuokrat\";.</th>\n",
       "      <td>NaN</td>\n",
       "    </tr>\n",
       "    <tr>\n",
       "      <th>2001;\"6820A Toimistotilojen vuokrat\";8.1</th>\n",
       "      <td>NaN</td>\n",
       "    </tr>\n",
       "    <tr>\n",
       "      <th>2002;\"6820A Toimistotilojen vuokrat\";7.8</th>\n",
       "      <td>NaN</td>\n",
       "    </tr>\n",
       "    <tr>\n",
       "      <th>2003;\"6820A Toimistotilojen vuokrat\";5.6</th>\n",
       "      <td>NaN</td>\n",
       "    </tr>\n",
       "    <tr>\n",
       "      <th>2004;\"6820A Toimistotilojen vuokrat\";1.7</th>\n",
       "      <td>NaN</td>\n",
       "    </tr>\n",
       "    <tr>\n",
       "      <th>2005;\"6820A Toimistotilojen vuokrat\";1.2</th>\n",
       "      <td>NaN</td>\n",
       "    </tr>\n",
       "    <tr>\n",
       "      <th>2006;\"6820A Toimistotilojen vuokrat\";0.1</th>\n",
       "      <td>NaN</td>\n",
       "    </tr>\n",
       "    <tr>\n",
       "      <th>2007;\"6820A Toimistotilojen vuokrat\";1.2</th>\n",
       "      <td>NaN</td>\n",
       "    </tr>\n",
       "    <tr>\n",
       "      <th>2008;\"6820A Toimistotilojen vuokrat\";2.6</th>\n",
       "      <td>NaN</td>\n",
       "    </tr>\n",
       "    <tr>\n",
       "      <th>2009;\"6820A Toimistotilojen vuokrat\";4.5</th>\n",
       "      <td>NaN</td>\n",
       "    </tr>\n",
       "    <tr>\n",
       "      <th>2010;\"6820A Toimistotilojen vuokrat\";3.8</th>\n",
       "      <td>NaN</td>\n",
       "    </tr>\n",
       "    <tr>\n",
       "      <th>2011;\"6820A Toimistotilojen vuokrat\";-0.2</th>\n",
       "      <td>NaN</td>\n",
       "    </tr>\n",
       "    <tr>\n",
       "      <th>2012;\"6820A Toimistotilojen vuokrat\";3.5</th>\n",
       "      <td>NaN</td>\n",
       "    </tr>\n",
       "    <tr>\n",
       "      <th>2013;\"6820A Toimistotilojen vuokrat\";2.8</th>\n",
       "      <td>NaN</td>\n",
       "    </tr>\n",
       "    <tr>\n",
       "      <th>2014;\"6820A Toimistotilojen vuokrat\";1.5</th>\n",
       "      <td>NaN</td>\n",
       "    </tr>\n",
       "    <tr>\n",
       "      <th>2015;\"6820A Toimistotilojen vuokrat\";-0.2</th>\n",
       "      <td>NaN</td>\n",
       "    </tr>\n",
       "    <tr>\n",
       "      <th>2016;\"6820A Toimistotilojen vuokrat\";0.7</th>\n",
       "      <td>NaN</td>\n",
       "    </tr>\n",
       "    <tr>\n",
       "      <th>2017;\"6820A Toimistotilojen vuokrat\";0.9</th>\n",
       "      <td>NaN</td>\n",
       "    </tr>\n",
       "    <tr>\n",
       "      <th>2018;\"6820A Toimistotilojen vuokrat\";1.0</th>\n",
       "      <td>NaN</td>\n",
       "    </tr>\n",
       "    <tr>\n",
       "      <th>2019;\"6820A Toimistotilojen vuokrat\";1.1</th>\n",
       "      <td>NaN</td>\n",
       "    </tr>\n",
       "    <tr>\n",
       "      <th>2020;\"6820A Toimistotilojen vuokrat\";0.4</th>\n",
       "      <td>NaN</td>\n",
       "    </tr>\n",
       "    <tr>\n",
       "      <th>2021;\"6820A Toimistotilojen vuokrat\";1.7</th>\n",
       "      <td>NaN</td>\n",
       "    </tr>\n",
       "    <tr>\n",
       "      <th>2022;\"6820A Toimistotilojen vuokrat\";4.5</th>\n",
       "      <td>NaN</td>\n",
       "    </tr>\n",
       "    <tr>\n",
       "      <th>2023;\"6820A Toimistotilojen vuokrat\";5.9</th>\n",
       "      <td>NaN</td>\n",
       "    </tr>\n",
       "  </tbody>\n",
       "</table>\n",
       "</div>"
      ],
      "text/plain": [
       "                                          117y -- Palvelujen tuottajahintaindeksi (2005=100), vuosittain, 2000-2023\n",
       "Vuosi;\"Toimiala\";\"Vuosimuutos                                                             %\"                       \n",
       "2000;\"6820A Toimistotilojen vuokrat\";.                                                   NaN                       \n",
       "2001;\"6820A Toimistotilojen vuokrat\";8.1                                                 NaN                       \n",
       "2002;\"6820A Toimistotilojen vuokrat\";7.8                                                 NaN                       \n",
       "2003;\"6820A Toimistotilojen vuokrat\";5.6                                                 NaN                       \n",
       "2004;\"6820A Toimistotilojen vuokrat\";1.7                                                 NaN                       \n",
       "2005;\"6820A Toimistotilojen vuokrat\";1.2                                                 NaN                       \n",
       "2006;\"6820A Toimistotilojen vuokrat\";0.1                                                 NaN                       \n",
       "2007;\"6820A Toimistotilojen vuokrat\";1.2                                                 NaN                       \n",
       "2008;\"6820A Toimistotilojen vuokrat\";2.6                                                 NaN                       \n",
       "2009;\"6820A Toimistotilojen vuokrat\";4.5                                                 NaN                       \n",
       "2010;\"6820A Toimistotilojen vuokrat\";3.8                                                 NaN                       \n",
       "2011;\"6820A Toimistotilojen vuokrat\";-0.2                                                NaN                       \n",
       "2012;\"6820A Toimistotilojen vuokrat\";3.5                                                 NaN                       \n",
       "2013;\"6820A Toimistotilojen vuokrat\";2.8                                                 NaN                       \n",
       "2014;\"6820A Toimistotilojen vuokrat\";1.5                                                 NaN                       \n",
       "2015;\"6820A Toimistotilojen vuokrat\";-0.2                                                NaN                       \n",
       "2016;\"6820A Toimistotilojen vuokrat\";0.7                                                 NaN                       \n",
       "2017;\"6820A Toimistotilojen vuokrat\";0.9                                                 NaN                       \n",
       "2018;\"6820A Toimistotilojen vuokrat\";1.0                                                 NaN                       \n",
       "2019;\"6820A Toimistotilojen vuokrat\";1.1                                                 NaN                       \n",
       "2020;\"6820A Toimistotilojen vuokrat\";0.4                                                 NaN                       \n",
       "2021;\"6820A Toimistotilojen vuokrat\";1.7                                                 NaN                       \n",
       "2022;\"6820A Toimistotilojen vuokrat\";4.5                                                 NaN                       \n",
       "2023;\"6820A Toimistotilojen vuokrat\";5.9                                                 NaN                       "
      ]
     },
     "execution_count": 58,
     "metadata": {},
     "output_type": "execute_result"
    }
   ],
   "source": [
    "OfficeRealEstate"
   ]
  }
 ],
 "metadata": {
  "kernelspec": {
   "display_name": "Python 3 (ipykernel)",
   "language": "python",
   "name": "python3"
  },
  "language_info": {
   "codemirror_mode": {
    "name": "ipython",
    "version": 3
   },
   "file_extension": ".py",
   "mimetype": "text/x-python",
   "name": "python",
   "nbconvert_exporter": "python",
   "pygments_lexer": "ipython3",
   "version": "3.11.3"
  }
 },
 "nbformat": 4,
 "nbformat_minor": 5
}
